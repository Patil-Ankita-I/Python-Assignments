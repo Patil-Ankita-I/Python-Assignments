{
 "cells": [
  {
   "cell_type": "markdown",
   "id": "36a0242c",
   "metadata": {},
   "source": [
    "1. Write a Python Program to Display Fibonacci Sequence Using Recursion?"
   ]
  },
  {
   "cell_type": "code",
   "execution_count": null,
   "id": "a3765c42",
   "metadata": {},
   "outputs": [],
   "source": [
    "def fibonacci(n1,n2):\n",
    "    print(n1,n2,end = ' ')\n",
    "    n1 = n1 + n2\n",
    "    n2 = n1 + n2\n",
    "    if n2 <  45:\n",
    "        fibonacci(n1,n2)\n",
    "    \n",
    "fibonacci(0,1)"
   ]
  },
  {
   "cell_type": "markdown",
   "id": "c3853e5f",
   "metadata": {},
   "source": [
    "2. Write a Python Program to Find Factorial of Number Using Recursion?"
   ]
  },
  {
   "cell_type": "code",
   "execution_count": null,
   "id": "2d7cc332",
   "metadata": {},
   "outputs": [],
   "source": [
    "def fact(n):\n",
    "    if n == 0:\n",
    "        return 1\n",
    "    return n * fact(n-1)\n",
    "\n",
    "fact(5)"
   ]
  },
  {
   "cell_type": "markdown",
   "id": "13f7446e",
   "metadata": {},
   "source": [
    "3. Write a Python Program to calculate your Body Mass Index?"
   ]
  },
  {
   "cell_type": "code",
   "execution_count": 3,
   "id": "97a760f5",
   "metadata": {},
   "outputs": [
    {
     "name": "stdout",
     "output_type": "stream",
     "text": [
      "Enter the height(eg:5.6): 5.6\n",
      "Enter the weight in kg: 61.4\n",
      "1.7069\n",
      "21.074254204539383\n"
     ]
    }
   ],
   "source": [
    "height = float(input(\"Enter the height(eg:5.6): \"))\n",
    "weight = float(input(\"Enter the weight in kg: \"))\n",
    "\n",
    "h_m = round(height * 0.3048,4)\n",
    "bmi = weight/(h_m)**2\n",
    "print(bmi)"
   ]
  },
  {
   "cell_type": "markdown",
   "id": "453f03af",
   "metadata": {},
   "source": [
    "4. Write a Python Program to calculate the natural logarithm of any number?"
   ]
  },
  {
   "cell_type": "code",
   "execution_count": 5,
   "id": "4fb0390e",
   "metadata": {},
   "outputs": [
    {
     "data": {
      "text/plain": [
       "3.8066624897703196"
      ]
     },
     "execution_count": 5,
     "metadata": {},
     "output_type": "execute_result"
    }
   ],
   "source": [
    "import math\n",
    "\n",
    "math.log(45)"
   ]
  },
  {
   "cell_type": "markdown",
   "id": "d5d12a66",
   "metadata": {},
   "source": [
    "5. Write a Python Program for cube sum of first n natural numbers?"
   ]
  },
  {
   "cell_type": "code",
   "execution_count": 8,
   "id": "502304ab",
   "metadata": {},
   "outputs": [
    {
     "data": {
      "text/plain": [
       "630.0"
      ]
     },
     "execution_count": 8,
     "metadata": {},
     "output_type": "execute_result"
    }
   ],
   "source": [
    "n = 35\n",
    "print((n * (n + 1))/2)"
   ]
  },
  {
   "cell_type": "code",
   "execution_count": null,
   "id": "821018be",
   "metadata": {},
   "outputs": [],
   "source": []
  }
 ],
 "metadata": {
  "kernelspec": {
   "display_name": "Python 3 (ipykernel)",
   "language": "python",
   "name": "python3"
  },
  "language_info": {
   "codemirror_mode": {
    "name": "ipython",
    "version": 3
   },
   "file_extension": ".py",
   "mimetype": "text/x-python",
   "name": "python",
   "nbconvert_exporter": "python",
   "pygments_lexer": "ipython3",
   "version": "3.9.7"
  }
 },
 "nbformat": 4,
 "nbformat_minor": 5
}
