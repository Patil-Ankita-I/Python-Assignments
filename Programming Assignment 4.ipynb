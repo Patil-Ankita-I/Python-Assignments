{
 "cells": [
  {
   "cell_type": "markdown",
   "id": "aae37ca3",
   "metadata": {},
   "source": [
    "1. Write a Python Program to Find the Factorial of a Number?\n"
   ]
  },
  {
   "cell_type": "code",
   "execution_count": 4,
   "id": "23674613",
   "metadata": {},
   "outputs": [
    {
     "name": "stdout",
     "output_type": "stream",
     "text": [
      "enter the number: 6\n",
      "720\n"
     ]
    }
   ],
   "source": [
    "n = int(input(\"enter the number: \"))\n",
    "\n",
    "fact = 1\n",
    "\n",
    "for i in range(n,1,-1):\n",
    "    fact = fact * i\n",
    "    \n",
    "print(fact)"
   ]
  },
  {
   "cell_type": "markdown",
   "id": "87de288e",
   "metadata": {},
   "source": [
    "2. Write a Python Program to Display the multiplication Table?\n"
   ]
  },
  {
   "cell_type": "code",
   "execution_count": 6,
   "id": "38fbf7d8",
   "metadata": {},
   "outputs": [
    {
     "name": "stdout",
     "output_type": "stream",
     "text": [
      "Enter the number whose table is to be displayed: 4\n",
      "Table of 4\n",
      "1 * 4 = 4\n",
      "2 * 4 = 8\n",
      "3 * 4 = 12\n",
      "4 * 4 = 16\n",
      "5 * 4 = 20\n",
      "6 * 4 = 24\n",
      "7 * 4 = 28\n",
      "8 * 4 = 32\n",
      "9 * 4 = 36\n",
      "10 * 4 = 40\n"
     ]
    }
   ],
   "source": [
    "n = int(input(\"Enter the number whose table is to be displayed: \"))\n",
    "\n",
    "print(\"Table of\",n)\n",
    "for i in range(1 , 11):\n",
    "    print(i,\"*\",n,\"=\",i*n)"
   ]
  },
  {
   "cell_type": "markdown",
   "id": "fe5d5aa6",
   "metadata": {},
   "source": [
    "3. Write a Python Program to Print the Fibonacci sequence?\n"
   ]
  },
  {
   "cell_type": "code",
   "execution_count": 8,
   "id": "e97e31e3",
   "metadata": {},
   "outputs": [
    {
     "name": "stdout",
     "output_type": "stream",
     "text": [
      "0\n",
      "1\n",
      "1\n",
      "2\n",
      "3\n",
      "5\n",
      "8\n",
      "13\n",
      "21\n",
      "34\n",
      "55\n",
      "89\n",
      "144\n",
      "233\n",
      "377\n",
      "610\n",
      "987\n",
      "1597\n",
      "2584\n",
      "4181\n",
      "6765\n",
      "10946\n"
     ]
    }
   ],
   "source": [
    "n1 = 0\n",
    "n2 = 1\n",
    "print(n1)\n",
    "print(n2)\n",
    "for i in range(10):\n",
    "    n1 = n1 + n2\n",
    "    n2 = n1 + n2\n",
    "    print(n1)\n",
    "    print(n2)"
   ]
  },
  {
   "cell_type": "markdown",
   "id": "13cdcc5b",
   "metadata": {},
   "source": [
    "4. Write a Python Program to Check Armstrong Number?\n"
   ]
  },
  {
   "cell_type": "code",
   "execution_count": 24,
   "id": "2d00d249",
   "metadata": {},
   "outputs": [
    {
     "name": "stdout",
     "output_type": "stream",
     "text": [
      "Enter a number123\n",
      "Not a Amstrong Number\n"
     ]
    }
   ],
   "source": [
    "n = int(input(\"Enter a number\"))\n",
    "num = n\n",
    "n_digits = len(str(n))\n",
    "cube = 0\n",
    "\n",
    "for i in range(1 , n_digits + 1):\n",
    "    d = n%10\n",
    "    cube = d**3 + cube\n",
    "    n = n // 10\n",
    "    \n",
    "if cube == num:\n",
    "    print(\"Amstrong number\")\n",
    "else:\n",
    "    print(\"Not a Amstrong Number\")\n"
   ]
  },
  {
   "cell_type": "markdown",
   "id": "a36b1ae7",
   "metadata": {},
   "source": [
    "5. Write a Python Program to Find Armstrong Number in an Interval?\n"
   ]
  },
  {
   "cell_type": "code",
   "execution_count": 27,
   "id": "e31172b9",
   "metadata": {},
   "outputs": [
    {
     "name": "stdout",
     "output_type": "stream",
     "text": [
      "Enter lower bound of interval0\n",
      "Enter upper bound of interval500\n",
      "0\n",
      "1\n",
      "153\n",
      "370\n",
      "371\n",
      "407\n"
     ]
    }
   ],
   "source": [
    "lower = int(input(\"Enter lower bound of interval\"))\n",
    "upper = int(input(\"Enter upper bound of interval\"))\n",
    "\n",
    "for n in range(lower,upper+1):\n",
    "    num = n\n",
    "    n_digits = len(str(n))\n",
    "    cube = 0\n",
    "\n",
    "    for i in range(1 , n_digits + 1):\n",
    "        d = n%10\n",
    "        cube = d**3 + cube\n",
    "        n = n // 10\n",
    "\n",
    "    if cube == num:\n",
    "        print(num)"
   ]
  },
  {
   "cell_type": "markdown",
   "id": "fca2b77b",
   "metadata": {},
   "source": [
    "6. Write a Python Program to Find the Sum of Natural Numbers?"
   ]
  },
  {
   "cell_type": "code",
   "execution_count": 28,
   "id": "59f2eacc",
   "metadata": {},
   "outputs": [
    {
     "name": "stdout",
     "output_type": "stream",
     "text": [
      "4951\n"
     ]
    }
   ],
   "source": [
    "sum = 1\n",
    "\n",
    "for i in range(1,100):\n",
    "    sum = sum + i\n",
    "    \n",
    "print(sum)"
   ]
  },
  {
   "cell_type": "code",
   "execution_count": null,
   "id": "80e327da",
   "metadata": {},
   "outputs": [],
   "source": []
  }
 ],
 "metadata": {
  "kernelspec": {
   "display_name": "Python 3 (ipykernel)",
   "language": "python",
   "name": "python3"
  },
  "language_info": {
   "codemirror_mode": {
    "name": "ipython",
    "version": 3
   },
   "file_extension": ".py",
   "mimetype": "text/x-python",
   "name": "python",
   "nbconvert_exporter": "python",
   "pygments_lexer": "ipython3",
   "version": "3.9.7"
  }
 },
 "nbformat": 4,
 "nbformat_minor": 5
}
