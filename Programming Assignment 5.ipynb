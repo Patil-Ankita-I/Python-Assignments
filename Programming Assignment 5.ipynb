{
 "cells": [
  {
   "cell_type": "markdown",
   "id": "dc52687f",
   "metadata": {},
   "source": [
    "1. Write a Python Program to Find LCM?"
   ]
  },
  {
   "cell_type": "code",
   "execution_count": 7,
   "id": "a75063ca",
   "metadata": {},
   "outputs": [
    {
     "name": "stdout",
     "output_type": "stream",
     "text": [
      "9\n",
      "4\n",
      "LCM: 36\n"
     ]
    }
   ],
   "source": [
    "n1 = int(input())\n",
    "n2 = int(input())\n",
    "\n",
    "if n1>21:\n",
    "    greater = n1\n",
    "    n = n1\n",
    "else:\n",
    "    greater = n2\n",
    "    n = n2\n",
    "    \n",
    "while(True):\n",
    "    if(greater % n1== 0 and greater % n2 == 0):\n",
    "        lcm = greater\n",
    "        print(\"LCM:\",lcm)\n",
    "        break\n",
    "    greater += n\n",
    "    "
   ]
  },
  {
   "cell_type": "markdown",
   "id": "1590560b",
   "metadata": {},
   "source": [
    "2. Write a Python Program to Find HCF?"
   ]
  },
  {
   "cell_type": "code",
   "execution_count": 6,
   "id": "6c65d475",
   "metadata": {},
   "outputs": [
    {
     "name": "stdout",
     "output_type": "stream",
     "text": [
      "Enter a number18\n",
      "Enter a number27\n",
      "Factors of 18 : [1, 2, 3, 6, 9, 18]\n",
      "Factors of 27 : [1, 3, 9, 27]\n",
      "Common Factors are: [1, 3, 9]\n",
      "HCF: 9\n"
     ]
    }
   ],
   "source": [
    "n1 = int(input(\"Enter a number\"))\n",
    "n2 = int(input(\"Enter a number\"))\n",
    "\n",
    "\n",
    "l1,l2=[],[]\n",
    "\n",
    "for i in range(1,n1+1):\n",
    "    if(n1%i) == 0:\n",
    "        l1.append(i)\n",
    "print(\"Factors of\",n1,\":\",l1)\n",
    "\n",
    "for j in range(1,n2+1):\n",
    "    if(n2%j) == 0:\n",
    "        l2.append(j)\n",
    "print(\"Factors of\",n2,\":\",l2)\n",
    "\n",
    "cf = list(set(l1) & set(l2))\n",
    "print(\"Common Factors are:\",cf)\n",
    "print(\"HCF:\",cf[-1])"
   ]
  },
  {
   "cell_type": "markdown",
   "id": "d9d84295",
   "metadata": {},
   "source": [
    "3. Write a Python Program to Convert Decimal to Binary, Octal and Hexadecimal?"
   ]
  },
  {
   "cell_type": "code",
   "execution_count": 7,
   "id": "d0991b29",
   "metadata": {},
   "outputs": [
    {
     "name": "stdout",
     "output_type": "stream",
     "text": [
      "Enter a Decimal number65\n",
      "Binary: 0b1000001\n",
      "Octal: 0o101\n",
      "Hexadecimal: 0x41\n"
     ]
    }
   ],
   "source": [
    "des = int(input(\"Enter a Decimal number\"))\n",
    "\n",
    "print(\"Binary:\",bin(des))\n",
    "print(\"Octal:\",oct(des))\n",
    "print(\"Hexadecimal:\",hex(des))"
   ]
  },
  {
   "cell_type": "markdown",
   "id": "107e6c16",
   "metadata": {},
   "source": [
    "4. Write a Python Program To Find ASCII value of a character?"
   ]
  },
  {
   "cell_type": "code",
   "execution_count": 10,
   "id": "bb963b44",
   "metadata": {},
   "outputs": [
    {
     "name": "stdout",
     "output_type": "stream",
     "text": [
      "Enter a CharacterA\n",
      "ASCII: 65\n"
     ]
    }
   ],
   "source": [
    "ch = input(\"Enter a Character\")\n",
    "\n",
    "print(\"ASCII:\",ord(ch))"
   ]
  },
  {
   "cell_type": "markdown",
   "id": "e731ea29",
   "metadata": {},
   "source": [
    "5. Write a Python Program to Make a Simple Calculator with 4 basic mathematical operations?"
   ]
  },
  {
   "cell_type": "code",
   "execution_count": 2,
   "id": "69f15109",
   "metadata": {},
   "outputs": [
    {
     "name": "stdout",
     "output_type": "stream",
     "text": [
      "Select operation.\n",
      "1.Add\n",
      "2.Subtract\n",
      "3.Multiply\n",
      "4.Divide\n",
      "Enter choice(1/2/3/4): 1\n",
      "Enter first number: 2\n",
      "Enter second number: 3\n",
      "2.0 + 3.0 = 5.0\n",
      "Let's do next calculation? (yes/no): NO\n"
     ]
    }
   ],
   "source": [
    "def add(x, y):\n",
    "    return x + y\n",
    "\n",
    "def subtract(x, y):\n",
    "    return x - y\n",
    "\n",
    "def multiply(x, y):\n",
    "    return x * y\n",
    "\n",
    "def divide(x, y):\n",
    "    return x / y\n",
    "\n",
    "\n",
    "print(\"Select operation.\")\n",
    "print(\"1.Add\")\n",
    "print(\"2.Subtract\")\n",
    "print(\"3.Multiply\")\n",
    "print(\"4.Divide\")\n",
    "\n",
    "while True:\n",
    "    choice = input(\"Enter choice(1/2/3/4): \")\n",
    "\n",
    "    if choice in ('1', '2', '3', '4'):\n",
    "        num1 = float(input(\"Enter first number: \"))\n",
    "        num2 = float(input(\"Enter second number: \"))\n",
    "\n",
    "        if choice == '1':\n",
    "            print(num1, \"+\", num2, \"=\", add(num1, num2))\n",
    "\n",
    "        elif choice == '2':\n",
    "            print(num1, \"-\", num2, \"=\", subtract(num1, num2))\n",
    "\n",
    "        elif choice == '3':\n",
    "            print(num1, \"*\", num2, \"=\", multiply(num1, num2))\n",
    "\n",
    "        elif choice == '4':\n",
    "            print(num1, \"/\", num2, \"=\", divide(num1, num2))\n",
    "        \n",
    "        next_calculation = input(\"Let's do next calculation? (yes/no): \")\n",
    "        if next_calculation.lower() == \"no\":\n",
    "          break\n",
    "    \n",
    "    else:\n",
    "        print(\"Invalid Input\")"
   ]
  },
  {
   "cell_type": "code",
   "execution_count": null,
   "id": "1078b6e5",
   "metadata": {},
   "outputs": [],
   "source": []
  },
  {
   "cell_type": "code",
   "execution_count": null,
   "id": "1e012690",
   "metadata": {},
   "outputs": [],
   "source": []
  }
 ],
 "metadata": {
  "kernelspec": {
   "display_name": "Python 3 (ipykernel)",
   "language": "python",
   "name": "python3"
  },
  "language_info": {
   "codemirror_mode": {
    "name": "ipython",
    "version": 3
   },
   "file_extension": ".py",
   "mimetype": "text/x-python",
   "name": "python",
   "nbconvert_exporter": "python",
   "pygments_lexer": "ipython3",
   "version": "3.9.7"
  }
 },
 "nbformat": 4,
 "nbformat_minor": 5
}
