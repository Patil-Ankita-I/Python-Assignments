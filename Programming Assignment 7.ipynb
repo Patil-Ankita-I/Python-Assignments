{
 "cells": [
  {
   "cell_type": "markdown",
   "id": "82fbf7e1",
   "metadata": {},
   "source": [
    "1. Write a Python Program to find sum of array?"
   ]
  },
  {
   "cell_type": "code",
   "execution_count": 1,
   "id": "b55db501",
   "metadata": {},
   "outputs": [
    {
     "data": {
      "text/plain": [
       "969"
      ]
     },
     "execution_count": 1,
     "metadata": {},
     "output_type": "execute_result"
    }
   ],
   "source": [
    "arr = [1,2,5,67,890,4]\n",
    "sum(arr)"
   ]
  },
  {
   "cell_type": "markdown",
   "id": "f5560318",
   "metadata": {},
   "source": [
    "2. Write a Python Program to find largest element in an array?"
   ]
  },
  {
   "cell_type": "code",
   "execution_count": 2,
   "id": "52f8eb74",
   "metadata": {},
   "outputs": [
    {
     "data": {
      "text/plain": [
       "890"
      ]
     },
     "execution_count": 2,
     "metadata": {},
     "output_type": "execute_result"
    }
   ],
   "source": [
    "arr = [1,2,5,67,890,4]\n",
    "max(arr)"
   ]
  },
  {
   "cell_type": "markdown",
   "id": "4d6a5ae0",
   "metadata": {},
   "source": [
    "3. Write a Python Program for array rotation?"
   ]
  },
  {
   "cell_type": "code",
   "execution_count": 20,
   "id": "963c86ee",
   "metadata": {},
   "outputs": [
    {
     "name": "stdout",
     "output_type": "stream",
     "text": [
      "[5, 67, 890, 4, 1, 2]\n"
     ]
    }
   ],
   "source": [
    "def rotate(n, pos):\n",
    "    res =[]\n",
    "    l =len(n)\n",
    "    a = l - pos\n",
    "    \n",
    "    i = pos\n",
    "    while i >= pos and i<l: \n",
    "        res.append(n[i])\n",
    "        i = i + 1\n",
    "    \n",
    "    j = 0\n",
    "    while j < pos: \n",
    "        res.append(n[j])\n",
    "        j = j + 1\n",
    "    print(res)\n",
    "    \n",
    "rotate(arr,2)"
   ]
  },
  {
   "cell_type": "markdown",
   "id": "3c63ecd9",
   "metadata": {},
   "source": [
    "4. Write a Python Program to Split the array and add the first part to the end?"
   ]
  },
  {
   "cell_type": "code",
   "execution_count": 22,
   "id": "26604667",
   "metadata": {},
   "outputs": [
    {
     "name": "stdout",
     "output_type": "stream",
     "text": [
      "[5, 6, 52, 36, 12, 10]\n"
     ]
    }
   ],
   "source": [
    "def split_and_attach(n,pos):\n",
    "    res =[]\n",
    "    l =len(n)\n",
    "    a = l - pos\n",
    "    \n",
    "    i = pos\n",
    "    while i >= pos and i<l: \n",
    "        res.append(n[i])\n",
    "        i = i + 1\n",
    "    \n",
    "    j = 0\n",
    "    while j < pos: \n",
    "        res.append(n[j])\n",
    "        j = j + 1\n",
    "    print(res)\n",
    "    \n",
    "split_and_attach([12, 10, 5, 6, 52, 36], 2)"
   ]
  },
  {
   "cell_type": "markdown",
   "id": "a015b551",
   "metadata": {},
   "source": [
    "5. Write a Python Program to check if given array is Monotonic?"
   ]
  },
  {
   "cell_type": "code",
   "execution_count": 34,
   "id": "ce565b5c",
   "metadata": {},
   "outputs": [
    {
     "ename": "SyntaxError",
     "evalue": "invalid syntax (Temp/ipykernel_8228/3982339364.py, line 9)",
     "output_type": "error",
     "traceback": [
      "\u001b[1;36m  File \u001b[1;32m\"C:\\Users\\ANKITA~1\\AppData\\Local\\Temp/ipykernel_8228/3982339364.py\"\u001b[1;36m, line \u001b[1;32m9\u001b[0m\n\u001b[1;33m    for i range(len(flag)):\u001b[0m\n\u001b[1;37m          ^\u001b[0m\n\u001b[1;31mSyntaxError\u001b[0m\u001b[1;31m:\u001b[0m invalid syntax\n"
     ]
    }
   ],
   "source": [
    "def check_monotonus(n):\n",
    "    flag =[]\n",
    "    for i in range(1,len(n)-1):\n",
    "        if (n[i-1] <= n[i] and n[i] <= n[i+1]) or ((n[i-1] >= n[i] and n[i] >= n[i+1])):\n",
    "            flag.append(True) \n",
    "        else:\n",
    "            flag.append(False)\n",
    "         \n",
    "    for i range(len(flag)):\n",
    "        if False in flag:\n",
    "            return False\n",
    "        else:\n",
    "            return True\n",
    "        \n",
    "check_monotonus([12, 10, 5, 6, 52, 36])"
   ]
  },
  {
   "cell_type": "code",
   "execution_count": 30,
   "id": "79a89ce7",
   "metadata": {},
   "outputs": [
    {
     "data": {
      "text/plain": [
       "True"
      ]
     },
     "execution_count": 30,
     "metadata": {},
     "output_type": "execute_result"
    }
   ],
   "source": [
    "check_monotonus([15,23,41])\n"
   ]
  },
  {
   "cell_type": "code",
   "execution_count": 31,
   "id": "25eda3fd",
   "metadata": {},
   "outputs": [
    {
     "data": {
      "text/plain": [
       "True"
      ]
     },
     "execution_count": 31,
     "metadata": {},
     "output_type": "execute_result"
    }
   ],
   "source": [
    "check_monotonus([45,23,11])"
   ]
  },
  {
   "cell_type": "code",
   "execution_count": 33,
   "id": "c2f2a5f9",
   "metadata": {},
   "outputs": [
    {
     "data": {
      "text/plain": [
       "True"
      ]
     },
     "execution_count": 33,
     "metadata": {},
     "output_type": "execute_result"
    }
   ],
   "source": [
    "check_monotonus([45,62,87,15,11,10])"
   ]
  },
  {
   "cell_type": "code",
   "execution_count": null,
   "id": "06c8b0e7",
   "metadata": {},
   "outputs": [],
   "source": []
  }
 ],
 "metadata": {
  "kernelspec": {
   "display_name": "Python 3 (ipykernel)",
   "language": "python",
   "name": "python3"
  },
  "language_info": {
   "codemirror_mode": {
    "name": "ipython",
    "version": 3
   },
   "file_extension": ".py",
   "mimetype": "text/x-python",
   "name": "python",
   "nbconvert_exporter": "python",
   "pygments_lexer": "ipython3",
   "version": "3.9.7"
  }
 },
 "nbformat": 4,
 "nbformat_minor": 5
}
