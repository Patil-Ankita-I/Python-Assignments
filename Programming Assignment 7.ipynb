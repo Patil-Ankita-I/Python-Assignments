{
 "cells": [
  {
   "cell_type": "markdown",
   "id": "637cf7c2",
   "metadata": {},
   "source": [
    "1. Write a Python Program to find sum of array?"
   ]
  },
  {
   "cell_type": "code",
   "execution_count": 1,
   "id": "c4d46d30",
   "metadata": {},
   "outputs": [
    {
     "data": {
      "text/plain": [
       "969"
      ]
     },
     "execution_count": 1,
     "metadata": {},
     "output_type": "execute_result"
    }
   ],
   "source": [
    "arr = [1,2,5,67,890,4]\n",
    "sum(arr)"
   ]
  },
  {
   "cell_type": "markdown",
   "id": "2536c3c3",
   "metadata": {},
   "source": [
    "2. Write a Python Program to find largest element in an array?"
   ]
  },
  {
   "cell_type": "code",
   "execution_count": 2,
   "id": "97445083",
   "metadata": {},
   "outputs": [
    {
     "data": {
      "text/plain": [
       "890"
      ]
     },
     "execution_count": 2,
     "metadata": {},
     "output_type": "execute_result"
    }
   ],
   "source": [
    "arr = [1,2,5,67,890,4]\n",
    "max(arr)"
   ]
  },
  {
   "cell_type": "markdown",
   "id": "6264024b",
   "metadata": {},
   "source": [
    "3. Write a Python Program for array rotation?"
   ]
  },
  {
   "cell_type": "code",
   "execution_count": 20,
   "id": "9a074d3b",
   "metadata": {},
   "outputs": [
    {
     "name": "stdout",
     "output_type": "stream",
     "text": [
      "[5, 67, 890, 4, 1, 2]\n"
     ]
    }
   ],
   "source": [
    "def rotate(n, pos):\n",
    "    res =[]\n",
    "    l =len(n)\n",
    "    a = l - pos\n",
    "    \n",
    "    i = pos\n",
    "    while i >= pos and i<l: \n",
    "        res.append(n[i])\n",
    "        i = i + 1\n",
    "    \n",
    "    j = 0\n",
    "    while j < pos: \n",
    "        res.append(n[j])\n",
    "        j = j + 1\n",
    "    print(res)\n",
    "    \n",
    "rotate(arr,2)"
   ]
  },
  {
   "cell_type": "markdown",
   "id": "bd0884dd",
   "metadata": {},
   "source": [
    "4. Write a Python Program to Split the array and add the first part to the end?"
   ]
  },
  {
   "cell_type": "code",
   "execution_count": 22,
   "id": "4474d5cd",
   "metadata": {},
   "outputs": [
    {
     "name": "stdout",
     "output_type": "stream",
     "text": [
      "[5, 6, 52, 36, 12, 10]\n"
     ]
    }
   ],
   "source": [
    "def split_and_attach(n,pos):\n",
    "    res =[]\n",
    "    l =len(n)\n",
    "    a = l - pos\n",
    "    \n",
    "    i = pos\n",
    "    while i >= pos and i<l: \n",
    "        res.append(n[i])\n",
    "        i = i + 1\n",
    "    \n",
    "    j = 0\n",
    "    while j < pos: \n",
    "        res.append(n[j])\n",
    "        j = j + 1\n",
    "    print(res)\n",
    "    \n",
    "split_and_attach([12, 10, 5, 6, 52, 36], 2)"
   ]
  },
  {
   "cell_type": "markdown",
   "id": "a731bf9a",
   "metadata": {},
   "source": [
    "5. Write a Python Program to check if given array is Monotonic?"
   ]
  },
  {
   "cell_type": "code",
   "execution_count": 35,
   "id": "8db3cc10",
   "metadata": {},
   "outputs": [
    {
     "data": {
      "text/plain": [
       "False"
      ]
     },
     "execution_count": 35,
     "metadata": {},
     "output_type": "execute_result"
    }
   ],
   "source": [
    "def check_monotonus(n):\n",
    "    flag =[]\n",
    "    for i in range(1,len(n)-1):\n",
    "        if (n[i-1] <= n[i] and n[i] <= n[i+1]) or ((n[i-1] >= n[i] and n[i] >= n[i+1])):\n",
    "            flag.append(True) \n",
    "        else:\n",
    "            flag.append(False)\n",
    "         \n",
    "    for i in range(len(flag)):\n",
    "        if False in flag:\n",
    "            return False\n",
    "        else:\n",
    "            return True\n",
    "        \n",
    "check_monotonus([12, 10, 5, 6, 52, 36])"
   ]
  },
  {
   "cell_type": "code",
   "execution_count": 36,
   "id": "0b0e9a55",
   "metadata": {},
   "outputs": [
    {
     "data": {
      "text/plain": [
       "True"
      ]
     },
     "execution_count": 36,
     "metadata": {},
     "output_type": "execute_result"
    }
   ],
   "source": [
    "check_monotonus([15,23,41])\n"
   ]
  },
  {
   "cell_type": "code",
   "execution_count": 37,
   "id": "d99c28a6",
   "metadata": {},
   "outputs": [
    {
     "data": {
      "text/plain": [
       "True"
      ]
     },
     "execution_count": 37,
     "metadata": {},
     "output_type": "execute_result"
    }
   ],
   "source": [
    "check_monotonus([45,23,11])"
   ]
  },
  {
   "cell_type": "code",
   "execution_count": 38,
   "id": "1a991f5e",
   "metadata": {},
   "outputs": [
    {
     "data": {
      "text/plain": [
       "False"
      ]
     },
     "execution_count": 38,
     "metadata": {},
     "output_type": "execute_result"
    }
   ],
   "source": [
    "check_monotonus([45,62,87,15,11,10])"
   ]
  },
  {
   "cell_type": "code",
   "execution_count": null,
   "id": "a609c022",
   "metadata": {},
   "outputs": [],
   "source": []
  }
 ],
 "metadata": {
  "kernelspec": {
   "display_name": "Python 3 (ipykernel)",
   "language": "python",
   "name": "python3"
  },
  "language_info": {
   "codemirror_mode": {
    "name": "ipython",
    "version": 3
   },
   "file_extension": ".py",
   "mimetype": "text/x-python",
   "name": "python",
   "nbconvert_exporter": "python",
   "pygments_lexer": "ipython3",
   "version": "3.9.7"
  }
 },
 "nbformat": 4,
 "nbformat_minor": 5
}
