{
 "cells": [
  {
   "cell_type": "markdown",
   "id": "a2ba6276",
   "metadata": {},
   "source": [
    "1. Write a Python program to convert kilometers to miles?"
   ]
  },
  {
   "cell_type": "code",
   "execution_count": 5,
   "id": "215695b0",
   "metadata": {},
   "outputs": [
    {
     "name": "stdout",
     "output_type": "stream",
     "text": [
      "Enter the kilometer28\n",
      "28kms =  17.398388\n"
     ]
    }
   ],
   "source": [
    "km = int(input(\"Enter the kilometer\"))\n",
    "\n",
    "miles = km * 0.621371\n",
    "print(\"{}kms = \".format(km),miles)"
   ]
  },
  {
   "cell_type": "markdown",
   "id": "8e21f1df",
   "metadata": {},
   "source": [
    "2. Write a Python program to convert Celsius to Fahrenheit?"
   ]
  },
  {
   "cell_type": "code",
   "execution_count": 6,
   "id": "7411784e",
   "metadata": {},
   "outputs": [
    {
     "name": "stdout",
     "output_type": "stream",
     "text": [
      "Enter the Degree Celsius: 10\n",
      "Fahrenheit: 50.0\n"
     ]
    }
   ],
   "source": [
    "c = int(input(\"Enter the Degree Celsius: \"))\n",
    "print(\"Fahrenheit:\",(c * 9/5) + 32)\n"
   ]
  },
  {
   "cell_type": "markdown",
   "id": "1bafb7c9",
   "metadata": {},
   "source": [
    "3. Write a Python program to display calendar?"
   ]
  },
  {
   "cell_type": "code",
   "execution_count": 9,
   "id": "c5e1f256",
   "metadata": {},
   "outputs": [
    {
     "name": "stdout",
     "output_type": "stream",
     "text": [
      "Enter Year2022\n",
      "Enter Month1\n",
      "    January 2022\n",
      "Mo Tu We Th Fr Sa Su\n",
      "                1  2\n",
      " 3  4  5  6  7  8  9\n",
      "10 11 12 13 14 15 16\n",
      "17 18 19 20 21 22 23\n",
      "24 25 26 27 28 29 30\n",
      "31\n",
      "\n"
     ]
    }
   ],
   "source": [
    "import calendar\n",
    "\n",
    "year = int(input(\"Enter Year\"))\n",
    "month = int(input(\"Enter Month\"))\n",
    "print(calendar.month(year,month))"
   ]
  },
  {
   "cell_type": "markdown",
   "id": "55ee610b",
   "metadata": {},
   "source": [
    "4. Write a Python program to solve quadratic equation?"
   ]
  },
  {
   "cell_type": "code",
   "execution_count": 26,
   "id": "22e8c3bd",
   "metadata": {},
   "outputs": [
    {
     "name": "stdout",
     "output_type": "stream",
     "text": [
      "Enter the value of a: 5\n",
      "Enter the value of b: 6\n",
      "Enter the value of c: 1\n",
      "Solutions are: -0.2 -1.0\n"
     ]
    }
   ],
   "source": [
    "import math\n",
    "\n",
    "a = int(input(\"Enter the value of a: \"))\n",
    "b = int(input(\"Enter the value of b: \"))\n",
    "c = int(input(\"Enter the value of c: \"))\n",
    "\n",
    "desc = b**2 - 4*a*c\n",
    "\n",
    "sol1 = (-b + math.sqrt(desc).real)/(2*a)\n",
    "sol2 = (-b - math.sqrt(desc).real)/(2*a)\n",
    "\n",
    "print(\"Solutions are:\",sol1,sol2)"
   ]
  },
  {
   "cell_type": "markdown",
   "id": "7b666df7",
   "metadata": {},
   "source": [
    "5. Write a Python program to swap two variables without temp variable?"
   ]
  },
  {
   "cell_type": "code",
   "execution_count": 29,
   "id": "4ada8b95",
   "metadata": {},
   "outputs": [
    {
     "name": "stdout",
     "output_type": "stream",
     "text": [
      "Enter the value of Num1: 3\n",
      "Enter the value of Num2: 4\n",
      "After Swapping\n",
      "Num1: 4 Num2: 3\n"
     ]
    }
   ],
   "source": [
    "num1 = int(input(\"Enter the value of Num1: \"))\n",
    "num2 = int(input(\"Enter the value of Num2: \"))\n",
    "\n",
    "num1 = num1 + num2\n",
    "num2 = num1 - num2\n",
    "num1 = num1 - num2\n",
    "\n",
    "print(\"After Swapping\")\n",
    "print(\"Num1:\",num1, \"Num2:\", num2)"
   ]
  },
  {
   "cell_type": "code",
   "execution_count": null,
   "id": "8ac2a474",
   "metadata": {},
   "outputs": [],
   "source": []
  }
 ],
 "metadata": {
  "kernelspec": {
   "display_name": "Python 3 (ipykernel)",
   "language": "python",
   "name": "python3"
  },
  "language_info": {
   "codemirror_mode": {
    "name": "ipython",
    "version": 3
   },
   "file_extension": ".py",
   "mimetype": "text/x-python",
   "name": "python",
   "nbconvert_exporter": "python",
   "pygments_lexer": "ipython3",
   "version": "3.9.7"
  }
 },
 "nbformat": 4,
 "nbformat_minor": 5
}
